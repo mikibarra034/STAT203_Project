{
 "cells": [
  {
   "cell_type": "markdown",
   "id": "51a407b0-dfa5-4edb-86d4-09ffbc6e5452",
   "metadata": {},
   "source": [
    "# STAT 201 Project Proposal\n",
    "\n",
    " *Group members: Calvin Choi & Mikel Ibarra*...26...26"
   ]
  },
  {
   "cell_type": "code",
   "execution_count": null,
   "id": "ff57672c-2e52-43b9-ae76-f566a4002f33",
   "metadata": {},
   "outputs": [
    {
     "name": "stderr",
     "output_type": "stream",
     "text": [
      "Registered S3 method overwritten by 'GGally':\n",
      "  method from   \n",
      "  +.gg   ggplot2\n",
      "\n",
      "\n",
      "Attaching package: ‘dplyr’\n",
      "\n",
      "\n",
      "The following objects are masked from ‘package:stats’:\n",
      "\n",
      "    filter, lag\n",
      "\n",
      "\n",
      "The following objects are masked from ‘package:base’:\n",
      "\n",
      "    intersect, setdiff, setequal, union\n",
      "\n",
      "\n",
      "\n",
      "Attaching package: ‘gridExtra’\n",
      "\n",
      "\n",
      "The following object is masked from ‘package:dplyr’:\n",
      "\n",
      "    combine\n",
      "\n",
      "\n",
      "── \u001b[1mAttaching packages\u001b[22m ─────────────────────────────────────── tidyverse 1.3.2 ──\n",
      "\u001b[32m✔\u001b[39m \u001b[34mtibble \u001b[39m 3.1.8     \u001b[32m✔\u001b[39m \u001b[34mpurrr  \u001b[39m 0.3.4\n",
      "\u001b[32m✔\u001b[39m \u001b[34mtidyr  \u001b[39m 1.2.1     \u001b[32m✔\u001b[39m \u001b[34mstringr\u001b[39m 1.4.1\n",
      "\u001b[32m✔\u001b[39m \u001b[34mreadr  \u001b[39m 2.1.2     \u001b[32m✔\u001b[39m \u001b[34mforcats\u001b[39m 0.5.2\n",
      "── \u001b[1mConflicts\u001b[22m ────────────────────────────────────────── tidyverse_conflicts() ──\n",
      "\u001b[31m✖\u001b[39m \u001b[34mgridExtra\u001b[39m::\u001b[32mcombine()\u001b[39m masks \u001b[34mdplyr\u001b[39m::combine()\n",
      "\u001b[31m✖\u001b[39m \u001b[34mdplyr\u001b[39m::\u001b[32mfilter()\u001b[39m      masks \u001b[34mstats\u001b[39m::filter()\n",
      "\u001b[31m✖\u001b[39m \u001b[34mdplyr\u001b[39m::\u001b[32mlag()\u001b[39m         masks \u001b[34mstats\u001b[39m::lag()\n"
     ]
    }
   ],
   "source": [
    "# Loading libraries\n",
    "library(readxl)\n",
    "library(ggplot2)                     \n",
    "library(GGally)\n",
    "library(cowplot)\n",
    "library(dplyr)\n",
    "library(gridExtra)\n",
    "library(repr)\n",
    "library(infer)\n",
    "library(repr)\n",
    "library(tidyverse)\n",
    "library(tidymodels)"
   ]
  },
  {
   "cell_type": "markdown",
   "id": "5dc6acc0-5c82-401f-b2ab-26c1bc16f7b6",
   "metadata": {},
   "source": [
    "## Introduction\n",
    "\n",
    "With the interconnected nature of the internet, one prominent feature is the use of \"review\" websites or platforms, with there being a wide variety of review platforms for different things. Goodreads for books, Trip Advisor for hotels and restaurants, Letterboxd for movies and tv shows, and a multitude of others. One of the most commmon of these websites is Google, as it provides a platform to review almost anything, from a pool to a park to a zoo. The UCI Travel Review Ratings Data Set (https://archive.ics.uci.edu/ml/datasets/Tarvel+Review+Ratings#) compiles the ratings from different users across a wide range of places. It includes two types of places which we will be looking at: dance clubs and pubs/bars, both being integral to nightlife within cities.\n",
    "\n",
    "However, one might ask, what value do online reviews hold? When analyzing them, studies have found that online reviews function as a sort of online word of mouth advertising. Weejing Duan, Bin Gu, and Andrew B. Whinston found the extent to which online reviews affected businesses, with them affecting box office numbers, but also being affected by sales of a product (Duan et al., 2008). Online ratings are so impactful, that entire studies, such as the one conducted by Daniel Keller & Maria Kostrominita, centered around giving businesses the best possible route to improving their scores on websites. The mentioned study found critical areas to focus on, such as food quality, service, and over all experience, but also highlighted how not all of these are equally important (Keller & Kostromitina, 2020).\n",
    "\n",
    "From this, we are looking to answer the following question: Between pubs/restaurants and dance club, which of the two has lower ratings? The reason as to why we're asking this is because through our findings, our results could be interpreted as indicators for advertisement companies for which of the two kinds of location they should focus on. Possibly, it could also be an indicator for tourism companies or organizations as to what kinds of businesses need more help with advertising."
   ]
  },
  {
   "cell_type": "markdown",
   "id": "341b38c8-27c0-4433-9bb3-a23c9fa1dcea",
   "metadata": {},
   "source": [
    "## Preliminary results"
   ]
  },
  {
   "cell_type": "markdown",
   "id": "8ba541fd-40a3-46a9-9c5d-ced4c78889f3",
   "metadata": {},
   "source": [
    "First, we read the dataset from the website, and remove any unnecessary rows"
   ]
  },
  {
   "cell_type": "code",
   "execution_count": null,
   "id": "6fcf4651-bc60-46ac-87a1-d4da0fb82d06",
   "metadata": {},
   "outputs": [],
   "source": [
    "# Reading the data into R & cleaning it\n",
    "AStat <- read_csv(\"https://archive.ics.uci.edu/ml/machine-learning-databases/00485/google_review_ratings.csv\") |>\n",
    "            # read csv from (https://archive.ics.uci.edu/ml/machine-learning-databases/00485/google_review_ratings.csv)\n",
    "    select(!...26)\n",
    "\n",
    "head(AStat)"
   ]
  },
  {
   "cell_type": "markdown",
   "id": "41c4083e-91f0-4df3-bb55-90d4c1d44ab4",
   "metadata": {},
   "source": [
    "Here we can see each individual column corresponds to one of the following attributes:\n",
    "\n",
    "- Attribute 1 : Unique user id\n",
    "- Attribute 2 : Average ratings on churches\n",
    "- Attribute 3 : Average ratings on resorts\n",
    "- Attribute 4 : Average ratings on beaches\n",
    "- Attribute 5 : Average ratings on parks\n",
    "- Attribute 6 : Average ratings on theatres\n",
    "- Attribute 7 : Average ratings on museums\n",
    "- Attribute 8 : Average ratings on malls\n",
    "- Attribute 9 : Average ratings on zoo\n",
    "- Attribute 10 : Average ratings on restaurants\n",
    "- Attribute 11 : Average ratings on pubs/bars\n",
    "- Attribute 12 : Average ratings on local services\n",
    "- Attribute 13 : Average ratings on burger/pizza shops\n",
    "- Attribute 14 : Average ratings on hotels/other lodgings\n",
    "- Attribute 15 : Average ratings on juice bars\n",
    "- Attribute 16 : Average ratings on art galleries\n",
    "- Attribute 17 : Average ratings on dance clubs\n",
    "- Attribute 18 : Average ratings on swimming pools\n",
    "- Attribute 19 : Average ratings on gyms\n",
    "- Attribute 20 : Average ratings on bakeries\n",
    "- Attribute 21 : Average ratings on beauty & spas\n",
    "- Attribute 22 : Average ratings on cafes\n",
    "- Attribute 23 : Average ratings on view points\n",
    "- Attribute 24 : Average ratings on monuments\n",
    "- Attribute 25 : Average ratings on gardens"
   ]
  },
  {
   "cell_type": "code",
   "execution_count": null,
   "id": "d3bb62e5-68f0-4200-bc8b-55633c067b23",
   "metadata": {},
   "outputs": [],
   "source": [
    "AStat_filtered <- AStat |>\n",
    "    select('Category 12', 'Category 18') |>\n",
    "    rename(Bar_and_Pub_Rating = 'Category 12', DanceClub_Rating = 'Category 18') |>\n",
    "    filter(Bar_and_Pub_Rating != 0, DanceClub_Rating != 0) #filter for venues with ratings in both categories\n",
    "\n",
    "head(AStat_filtered)"
   ]
  },
  {
   "cell_type": "markdown",
   "id": "100f8916-5693-4da1-bf95-6a4919e0a7cc",
   "metadata": {},
   "source": [
    "We selected the columns which were of importance to us, these being the Bar/Pub Rating column and the Dance Club column. We also filtered out any rows that had values of 0. Eventhough we do not have any confirmation as to wether or not these zeros come from a lack of input or if that is their rating, we decided to remove them since because they are averages, any instance in which there was a rating besides 0 it would show in the value being higher than 0, which can be observed in the data frame."
   ]
  },
  {
   "cell_type": "code",
   "execution_count": null,
   "id": "139fbfd6-3364-4a7b-8896-71a9367989c9",
   "metadata": {},
   "outputs": [],
   "source": [
    "mu_tb <- summarize(AStat_filtered, \"Mean Bar/Pub Rating\" = mean(Bar_and_Pub_Rating), \"Mean Dance Club Rating\" = mean(DanceClub_Rating))\n",
    "st_tb <- summarize(AStat_filtered, 'Standard Deviation Bar/Pub Rating' = sd(Bar_and_Pub_Rating),\n",
    "                   'Standard Deviation Dance Club Rating' = sd(DanceClub_Rating))\n",
    "\n",
    "mu_tb\n",
    "st_tb"
   ]
  },
  {
   "cell_type": "markdown",
   "id": "07bed4dd-441f-4348-b598-d446c58cfef2",
   "metadata": {},
   "source": [
    "Here, we calculated the parameters of the population. We first calculated the µ values for both columns, and then the standard deviation."
   ]
  },
  {
   "cell_type": "code",
   "execution_count": null,
   "id": "370ddef8-e773-4395-b0ab-ce648c088b3a",
   "metadata": {},
   "outputs": [],
   "source": [
    "ggpairs(AStat_filtered)"
   ]
  },
  {
   "cell_type": "markdown",
   "id": "372aae38-af79-4876-848e-379cb353aaf0",
   "metadata": {},
   "source": [
    "## Methods: Plan\n",
    "\n",
    "Our preliminary results show us that the average reviewer rates bars higher than they rate dance clubs, we want to further investigate and analyze to see how true this hypothesis by doing a 2 sample t-test and potentially a regression analysis on the data we have using bootstrapping and sampling.\n",
    "\n",
    "Our hypotheses are as follows:\n",
    "- Null : Mu Bar - Mu Dance <> 0\n",
    "- Alternative : Mu Bar - Mu Dance <= 0"
   ]
  },
  {
   "cell_type": "markdown",
   "id": "66c838e8-2d38-47b9-a76e-b2996c8b4bfd",
   "metadata": {},
   "source": [
    "## Refferences\n",
    "\n",
    "1. Keller, D., &amp; Kostromitina, M. (2020). Characterizing non-chain Restaurants’ Yelp Star-Ratings: Generalizable findings from a representative sample of yelp reviews. International Journal of Hospitality Management, 86, 102440. https://doi.org/10.1016/j.ijhm.2019.102440 \n",
    "\n",
    "2. Duan, W., Gu, B., &amp; Whinston, A. B. (2008). Do online reviews matter? — an empirical investigation of panel data. Decision Support Systems, 45(4), 1007–1016. https://doi.org/10.1016/j.dss.2008.04.001 "
   ]
  }
 ],
 "metadata": {
  "kernelspec": {
   "display_name": "R",
   "language": "R",
   "name": "ir"
  },
  "language_info": {
   "codemirror_mode": "r",
   "file_extension": ".r",
   "mimetype": "text/x-r-source",
   "name": "R",
   "pygments_lexer": "r",
   "version": "4.1.3"
  }
 },
 "nbformat": 4,
 "nbformat_minor": 5
}
