{
 "cells": [
  {
   "cell_type": "markdown",
   "id": "51a407b0-dfa5-4edb-86d4-09ffbc6e5452",
   "metadata": {},
   "source": [
    "# STAT 201 Project Proposal\n",
    "\n",
    " *Group members: Calvin Choi & Mikel Ibarra*...26...26"
   ]
  },
  {
   "cell_type": "code",
   "execution_count": null,
   "id": "ff57672c-2e52-43b9-ae76-f566a4002f33",
   "metadata": {},
   "outputs": [],
   "source": [
    "# Loading libraries\n",
    "library(readxl)\n",
    "library(ggplot2)                     \n",
    "library(GGally)\n",
    "library(cowplot)\n",
    "library(dplyr)\n",
    "library(gridExtra)\n",
    "library(repr)\n",
    "library(infer)\n",
    "library(repr)\n",
    "library(tidyverse)\n",
    "library(tidymodels)"
   ]
  },
  {
   "cell_type": "markdown",
   "id": "5dc6acc0-5c82-401f-b2ab-26c1bc16f7b6",
   "metadata": {},
   "source": [
    "## Introduction\n",
    "\n"
   ]
  },
  {
   "cell_type": "markdown",
   "id": "341b38c8-27c0-4433-9bb3-a23c9fa1dcea",
   "metadata": {},
   "source": [
    "## Preliminary results"
   ]
  },
  {
   "cell_type": "code",
   "execution_count": 13,
   "id": "6fcf4651-bc60-46ac-87a1-d4da0fb82d06",
   "metadata": {},
   "outputs": [
    {
     "name": "stderr",
     "output_type": "stream",
     "text": [
      "\u001b[1m\u001b[22mNew names:\n",
      "\u001b[36m•\u001b[39m `` -> `...26`\n",
      "Warning message:\n",
      "“One or more parsing issues, see `problems()` for details”\n",
      "\u001b[1mRows: \u001b[22m\u001b[34m5456\u001b[39m \u001b[1mColumns: \u001b[22m\u001b[34m26\u001b[39m\n",
      "\u001b[36m──\u001b[39m \u001b[1mColumn specification\u001b[22m \u001b[36m────────────────────────────────────────────────────────\u001b[39m\n",
      "\u001b[1mDelimiter:\u001b[22m \",\"\n",
      "\u001b[31mchr\u001b[39m  (1): User\n",
      "\u001b[32mdbl\u001b[39m (24): Category 1, Category 2, Category 3, Category 4, Category 5, Catego...\n",
      "\u001b[33mlgl\u001b[39m  (1): ...26\n",
      "\n",
      "\u001b[36mℹ\u001b[39m Use `spec()` to retrieve the full column specification for this data.\n",
      "\u001b[36mℹ\u001b[39m Specify the column types or set `show_col_types = FALSE` to quiet this message.\n"
     ]
    },
    {
     "data": {
      "text/html": [
       "<table class=\"dataframe\">\n",
       "<caption>A tibble: 6 × 25</caption>\n",
       "<thead>\n",
       "\t<tr><th scope=col>User</th><th scope=col>Category 1</th><th scope=col>Category 2</th><th scope=col>Category 3</th><th scope=col>Category 4</th><th scope=col>Category 5</th><th scope=col>Category 6</th><th scope=col>Category 7</th><th scope=col>Category 8</th><th scope=col>Category 9</th><th scope=col>⋯</th><th scope=col>Category 15</th><th scope=col>Category 16</th><th scope=col>Category 17</th><th scope=col>Category 18</th><th scope=col>Category 19</th><th scope=col>Category 20</th><th scope=col>Category 21</th><th scope=col>Category 22</th><th scope=col>Category 23</th><th scope=col>Category 24</th></tr>\n",
       "\t<tr><th scope=col>&lt;chr&gt;</th><th scope=col>&lt;dbl&gt;</th><th scope=col>&lt;dbl&gt;</th><th scope=col>&lt;dbl&gt;</th><th scope=col>&lt;dbl&gt;</th><th scope=col>&lt;dbl&gt;</th><th scope=col>&lt;dbl&gt;</th><th scope=col>&lt;dbl&gt;</th><th scope=col>&lt;dbl&gt;</th><th scope=col>&lt;dbl&gt;</th><th scope=col>⋯</th><th scope=col>&lt;dbl&gt;</th><th scope=col>&lt;dbl&gt;</th><th scope=col>&lt;dbl&gt;</th><th scope=col>&lt;dbl&gt;</th><th scope=col>&lt;dbl&gt;</th><th scope=col>&lt;dbl&gt;</th><th scope=col>&lt;dbl&gt;</th><th scope=col>&lt;dbl&gt;</th><th scope=col>&lt;dbl&gt;</th><th scope=col>&lt;dbl&gt;</th></tr>\n",
       "</thead>\n",
       "<tbody>\n",
       "\t<tr><td>User 1</td><td>0</td><td>0.0</td><td>3.63</td><td>3.65</td><td>5</td><td>2.92</td><td>5</td><td>2.35</td><td>2.33</td><td>⋯</td><td>1.74</td><td>0.59</td><td>0.5</td><td>0</td><td>0.5</td><td>0</td><td>0</td><td>0</td><td>0</td><td>0</td></tr>\n",
       "\t<tr><td>User 2</td><td>0</td><td>0.0</td><td>3.63</td><td>3.65</td><td>5</td><td>2.92</td><td>5</td><td>2.64</td><td>2.33</td><td>⋯</td><td>1.74</td><td>0.59</td><td>0.5</td><td>0</td><td>0.5</td><td>0</td><td>0</td><td>0</td><td>0</td><td>0</td></tr>\n",
       "\t<tr><td>User 3</td><td>0</td><td>0.0</td><td>3.63</td><td>3.63</td><td>5</td><td>2.92</td><td>5</td><td>2.64</td><td>2.33</td><td>⋯</td><td>1.74</td><td>0.59</td><td>0.5</td><td>0</td><td>0.5</td><td>0</td><td>0</td><td>0</td><td>0</td><td>0</td></tr>\n",
       "\t<tr><td>User 4</td><td>0</td><td>0.5</td><td>3.63</td><td>3.63</td><td>5</td><td>2.92</td><td>5</td><td>2.35</td><td>2.33</td><td>⋯</td><td>1.74</td><td>0.59</td><td>0.5</td><td>0</td><td>0.5</td><td>0</td><td>0</td><td>0</td><td>0</td><td>0</td></tr>\n",
       "\t<tr><td>User 5</td><td>0</td><td>0.0</td><td>3.63</td><td>3.63</td><td>5</td><td>2.92</td><td>5</td><td>2.64</td><td>2.33</td><td>⋯</td><td>1.74</td><td>0.59</td><td>0.5</td><td>0</td><td>0.5</td><td>0</td><td>0</td><td>0</td><td>0</td><td>0</td></tr>\n",
       "\t<tr><td>User 6</td><td>0</td><td>0.0</td><td>3.63</td><td>3.63</td><td>5</td><td>2.92</td><td>5</td><td>2.63</td><td>2.33</td><td>⋯</td><td>1.74</td><td>0.59</td><td>0.5</td><td>0</td><td>0.5</td><td>0</td><td>0</td><td>0</td><td>0</td><td>0</td></tr>\n",
       "</tbody>\n",
       "</table>\n"
      ],
      "text/latex": [
       "A tibble: 6 × 25\n",
       "\\begin{tabular}{lllllllllllllllllllll}\n",
       " User & Category 1 & Category 2 & Category 3 & Category 4 & Category 5 & Category 6 & Category 7 & Category 8 & Category 9 & ⋯ & Category 15 & Category 16 & Category 17 & Category 18 & Category 19 & Category 20 & Category 21 & Category 22 & Category 23 & Category 24\\\\\n",
       " <chr> & <dbl> & <dbl> & <dbl> & <dbl> & <dbl> & <dbl> & <dbl> & <dbl> & <dbl> & ⋯ & <dbl> & <dbl> & <dbl> & <dbl> & <dbl> & <dbl> & <dbl> & <dbl> & <dbl> & <dbl>\\\\\n",
       "\\hline\n",
       "\t User 1 & 0 & 0.0 & 3.63 & 3.65 & 5 & 2.92 & 5 & 2.35 & 2.33 & ⋯ & 1.74 & 0.59 & 0.5 & 0 & 0.5 & 0 & 0 & 0 & 0 & 0\\\\\n",
       "\t User 2 & 0 & 0.0 & 3.63 & 3.65 & 5 & 2.92 & 5 & 2.64 & 2.33 & ⋯ & 1.74 & 0.59 & 0.5 & 0 & 0.5 & 0 & 0 & 0 & 0 & 0\\\\\n",
       "\t User 3 & 0 & 0.0 & 3.63 & 3.63 & 5 & 2.92 & 5 & 2.64 & 2.33 & ⋯ & 1.74 & 0.59 & 0.5 & 0 & 0.5 & 0 & 0 & 0 & 0 & 0\\\\\n",
       "\t User 4 & 0 & 0.5 & 3.63 & 3.63 & 5 & 2.92 & 5 & 2.35 & 2.33 & ⋯ & 1.74 & 0.59 & 0.5 & 0 & 0.5 & 0 & 0 & 0 & 0 & 0\\\\\n",
       "\t User 5 & 0 & 0.0 & 3.63 & 3.63 & 5 & 2.92 & 5 & 2.64 & 2.33 & ⋯ & 1.74 & 0.59 & 0.5 & 0 & 0.5 & 0 & 0 & 0 & 0 & 0\\\\\n",
       "\t User 6 & 0 & 0.0 & 3.63 & 3.63 & 5 & 2.92 & 5 & 2.63 & 2.33 & ⋯ & 1.74 & 0.59 & 0.5 & 0 & 0.5 & 0 & 0 & 0 & 0 & 0\\\\\n",
       "\\end{tabular}\n"
      ],
      "text/markdown": [
       "\n",
       "A tibble: 6 × 25\n",
       "\n",
       "| User &lt;chr&gt; | Category 1 &lt;dbl&gt; | Category 2 &lt;dbl&gt; | Category 3 &lt;dbl&gt; | Category 4 &lt;dbl&gt; | Category 5 &lt;dbl&gt; | Category 6 &lt;dbl&gt; | Category 7 &lt;dbl&gt; | Category 8 &lt;dbl&gt; | Category 9 &lt;dbl&gt; | ⋯ ⋯ | Category 15 &lt;dbl&gt; | Category 16 &lt;dbl&gt; | Category 17 &lt;dbl&gt; | Category 18 &lt;dbl&gt; | Category 19 &lt;dbl&gt; | Category 20 &lt;dbl&gt; | Category 21 &lt;dbl&gt; | Category 22 &lt;dbl&gt; | Category 23 &lt;dbl&gt; | Category 24 &lt;dbl&gt; |\n",
       "|---|---|---|---|---|---|---|---|---|---|---|---|---|---|---|---|---|---|---|---|---|\n",
       "| User 1 | 0 | 0.0 | 3.63 | 3.65 | 5 | 2.92 | 5 | 2.35 | 2.33 | ⋯ | 1.74 | 0.59 | 0.5 | 0 | 0.5 | 0 | 0 | 0 | 0 | 0 |\n",
       "| User 2 | 0 | 0.0 | 3.63 | 3.65 | 5 | 2.92 | 5 | 2.64 | 2.33 | ⋯ | 1.74 | 0.59 | 0.5 | 0 | 0.5 | 0 | 0 | 0 | 0 | 0 |\n",
       "| User 3 | 0 | 0.0 | 3.63 | 3.63 | 5 | 2.92 | 5 | 2.64 | 2.33 | ⋯ | 1.74 | 0.59 | 0.5 | 0 | 0.5 | 0 | 0 | 0 | 0 | 0 |\n",
       "| User 4 | 0 | 0.5 | 3.63 | 3.63 | 5 | 2.92 | 5 | 2.35 | 2.33 | ⋯ | 1.74 | 0.59 | 0.5 | 0 | 0.5 | 0 | 0 | 0 | 0 | 0 |\n",
       "| User 5 | 0 | 0.0 | 3.63 | 3.63 | 5 | 2.92 | 5 | 2.64 | 2.33 | ⋯ | 1.74 | 0.59 | 0.5 | 0 | 0.5 | 0 | 0 | 0 | 0 | 0 |\n",
       "| User 6 | 0 | 0.0 | 3.63 | 3.63 | 5 | 2.92 | 5 | 2.63 | 2.33 | ⋯ | 1.74 | 0.59 | 0.5 | 0 | 0.5 | 0 | 0 | 0 | 0 | 0 |\n",
       "\n"
      ],
      "text/plain": [
       "  User   Category 1 Category 2 Category 3 Category 4 Category 5 Category 6\n",
       "1 User 1 0          0.0        3.63       3.65       5          2.92      \n",
       "2 User 2 0          0.0        3.63       3.65       5          2.92      \n",
       "3 User 3 0          0.0        3.63       3.63       5          2.92      \n",
       "4 User 4 0          0.5        3.63       3.63       5          2.92      \n",
       "5 User 5 0          0.0        3.63       3.63       5          2.92      \n",
       "6 User 6 0          0.0        3.63       3.63       5          2.92      \n",
       "  Category 7 Category 8 Category 9 ⋯ Category 15 Category 16 Category 17\n",
       "1 5          2.35       2.33       ⋯ 1.74        0.59        0.5        \n",
       "2 5          2.64       2.33       ⋯ 1.74        0.59        0.5        \n",
       "3 5          2.64       2.33       ⋯ 1.74        0.59        0.5        \n",
       "4 5          2.35       2.33       ⋯ 1.74        0.59        0.5        \n",
       "5 5          2.64       2.33       ⋯ 1.74        0.59        0.5        \n",
       "6 5          2.63       2.33       ⋯ 1.74        0.59        0.5        \n",
       "  Category 18 Category 19 Category 20 Category 21 Category 22 Category 23\n",
       "1 0           0.5         0           0           0           0          \n",
       "2 0           0.5         0           0           0           0          \n",
       "3 0           0.5         0           0           0           0          \n",
       "4 0           0.5         0           0           0           0          \n",
       "5 0           0.5         0           0           0           0          \n",
       "6 0           0.5         0           0           0           0          \n",
       "  Category 24\n",
       "1 0          \n",
       "2 0          \n",
       "3 0          \n",
       "4 0          \n",
       "5 0          \n",
       "6 0          "
      ]
     },
     "metadata": {},
     "output_type": "display_data"
    }
   ],
   "source": [
    "# Reading the data into R & tidy the data\n",
    "AStat <- read_csv(\"https://archive.ics.uci.edu/ml/machine-learning-databases/00485/google_review_ratings.csv\") |>\n",
    "            # read csv from (https://archive.ics.uci.edu/ml/machine-learning-databases/00485/google_review_ratings.csv)\n",
    "    select(!...26)\n",
    "head(AStat)"
   ]
  },
  {
   "cell_type": "markdown",
   "id": "41c4083e-91f0-4df3-bb55-90d4c1d44ab4",
   "metadata": {},
   "source": [
    "Here we can see each individual column corresponds to one of the following attributes:"
   ]
  },
  {
   "cell_type": "markdown",
   "id": "372aae38-af79-4876-848e-379cb353aaf0",
   "metadata": {},
   "source": [
    "## Methods: Plan"
   ]
  },
  {
   "cell_type": "code",
   "execution_count": null,
   "id": "a2cbe267-949b-4067-8f11-8313a0b0d2f3",
   "metadata": {},
   "outputs": [],
   "source": []
  },
  {
   "cell_type": "markdown",
   "id": "66c838e8-2d38-47b9-a76e-b2996c8b4bfd",
   "metadata": {},
   "source": [
    "## Refferences\n",
    "\n",
    "1. \n",
    "\n",
    "2. "
   ]
  }
 ],
 "metadata": {
  "kernelspec": {
   "display_name": "R",
   "language": "R",
   "name": "ir"
  },
  "language_info": {
   "codemirror_mode": "r",
   "file_extension": ".r",
   "mimetype": "text/x-r-source",
   "name": "R",
   "pygments_lexer": "r",
   "version": "4.1.3"
  }
 },
 "nbformat": 4,
 "nbformat_minor": 5
}
