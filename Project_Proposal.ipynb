{
 "cells": [
  {
   "cell_type": "markdown",
   "id": "51a407b0-dfa5-4edb-86d4-09ffbc6e5452",
   "metadata": {},
   "source": [
    "# STAT 201 Project Proposal\n",
    "\n",
    " *Group members: Calvin Choi & Mikel Ibarra*"
   ]
  },
  {
   "cell_type": "markdown",
   "id": "5dc6acc0-5c82-401f-b2ab-26c1bc16f7b6",
   "metadata": {},
   "source": [
    "## Introduction"
   ]
  },
  {
   "cell_type": "markdown",
   "id": "341b38c8-27c0-4433-9bb3-a23c9fa1dcea",
   "metadata": {},
   "source": [
    "## Preliminary results"
   ]
  },
  {
   "cell_type": "code",
   "execution_count": null,
   "id": "ed48662f-ca53-4796-a2fc-934c7d6b819f",
   "metadata": {},
   "outputs": [],
   "source": []
  },
  {
   "cell_type": "markdown",
   "id": "372aae38-af79-4876-848e-379cb353aaf0",
   "metadata": {},
   "source": [
    "## Methods Plan"
   ]
  },
  {
   "cell_type": "code",
   "execution_count": null,
   "id": "a2cbe267-949b-4067-8f11-8313a0b0d2f3",
   "metadata": {},
   "outputs": [],
   "source": []
  },
  {
   "cell_type": "markdown",
   "id": "66c838e8-2d38-47b9-a76e-b2996c8b4bfd",
   "metadata": {},
   "source": [
    "## Refferences"
   ]
  }
 ],
 "metadata": {
  "kernelspec": {
   "display_name": "R",
   "language": "R",
   "name": "ir"
  },
  "language_info": {
   "codemirror_mode": "r",
   "file_extension": ".r",
   "mimetype": "text/x-r-source",
   "name": "R",
   "pygments_lexer": "r",
   "version": "4.1.3"
  }
 },
 "nbformat": 4,
 "nbformat_minor": 5
}
